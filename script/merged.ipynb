{
 "cells": [
  {
   "cell_type": "code",
   "execution_count": 1,
   "metadata": {},
   "outputs": [],
   "source": [
    "import pandas as pd"
   ]
  },
  {
   "cell_type": "code",
   "execution_count": 2,
   "metadata": {},
   "outputs": [],
   "source": [
    "processed_list = [\n",
    "    {\n",
    "        \"site_ranking\": \"Verdadeiro\",\n",
    "        \"processed_path\": \"../dados/enriquecidos/trusted_aosfatos/verdadeiro_aosfatos.csv\",\n",
    "        \"site\": \"aosfatos\"\n",
    "    },\n",
    "    {\n",
    "        \"site_ranking\": \"Distorcido\",\n",
    "        \"processed_path\": \"../dados/enriquecidos/trusted_aosfatos/distorcido_aosfatos.csv\",\n",
    "        \"site\": \"aosfatos\"\n",
    "    },\n",
    "    {\n",
    "        \"site_ranking\": \"Falso\",\n",
    "        \"processed_path\": \"../dados/enriquecidos/trusted_aosfatos/fake_aosfatos.csv\",\n",
    "        \"site\": \"aosfatos\"\n",
    "    },\n",
    "    {\n",
    "        \"site_ranking\": \"Verdadeiro\",\n",
    "        \"processed_path\": \"../dados/enriquecidos/trusted_efarsas/verdadeiro_efarsas.csv\",\n",
    "        \"site\": \"efarsas\"\n",
    "    },\n",
    "    {\n",
    "        \"site_ranking\": \"Falso\",\n",
    "        \"processed_path\": \"../dados/enriquecidos/trusted_efarsas/fake_efarsas.csv\",\n",
    "        \"site\": \"efarsas\"\n",
    "    },\n",
    "]"
   ]
  },
  {
   "cell_type": "code",
   "execution_count": 3,
   "metadata": {},
   "outputs": [
    {
     "data": {
      "text/plain": [
       "load_date              6694\n",
       "site_ranking           6694\n",
       "site_name              6694\n",
       "url                    6694\n",
       "site_language          6694\n",
       "site_content_url       6555\n",
       "site_url               6694\n",
       "site_date_published    6694\n",
       "title                  6694\n",
       "description            6694\n",
       "keywords               6376\n",
       "tag                    4294\n",
       "claim_reviewed         5159\n",
       "review_body            2394\n",
       "claim                  6693\n",
       "dtype: int64"
      ]
     },
     "execution_count": 3,
     "metadata": {},
     "output_type": "execute_result"
    }
   ],
   "source": [
    "path = \"../dados/filtrados/refined_dataset/dataset.csv\"\n",
    "frames = []\n",
    "\n",
    "for processed in processed_list:\n",
    "    df = pd.read_csv(processed[\"processed_path\"])\n",
    "    frames.append(df)\n",
    "\n",
    "result = pd.concat(frames)\n",
    "result.count()"
   ]
  },
  {
   "cell_type": "code",
   "execution_count": 4,
   "metadata": {},
   "outputs": [
    {
     "data": {
      "text/plain": [
       "load_date              5397\n",
       "site_ranking           5397\n",
       "site_name              5397\n",
       "url                    5397\n",
       "site_language          5397\n",
       "site_content_url       5281\n",
       "site_url               5397\n",
       "site_date_published    5397\n",
       "title                  5397\n",
       "description            5397\n",
       "keywords               5107\n",
       "tag                    3053\n",
       "claim_reviewed         4333\n",
       "review_body            2338\n",
       "claim                  5396\n",
       "dtype: int64"
      ]
     },
     "execution_count": 4,
     "metadata": {},
     "output_type": "execute_result"
    }
   ],
   "source": [
    "df = result.drop_duplicates(subset=['url', 'title', 'description'], keep='first')\n",
    "df.count()"
   ]
  },
  {
   "cell_type": "code",
   "execution_count": 5,
   "metadata": {},
   "outputs": [],
   "source": [
    "df.to_csv(path, index=False)"
   ]
  }
 ],
 "metadata": {
  "kernelspec": {
   "display_name": "Python 3.10.5 64-bit",
   "language": "python",
   "name": "python3"
  },
  "language_info": {
   "codemirror_mode": {
    "name": "ipython",
    "version": 3
   },
   "file_extension": ".py",
   "mimetype": "text/x-python",
   "name": "python",
   "nbconvert_exporter": "python",
   "pygments_lexer": "ipython3",
   "version": "3.11.3"
  },
  "orig_nbformat": 4,
  "vscode": {
   "interpreter": {
    "hash": "e7370f93d1d0cde622a1f8e1c04877d8463912d04d973331ad4851f04de6915a"
   }
  }
 },
 "nbformat": 4,
 "nbformat_minor": 2
}
