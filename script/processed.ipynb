{
 "cells": [
  {
   "cell_type": "code",
   "execution_count": 3,
   "metadata": {},
   "outputs": [
    {
     "data": {
      "text/plain": [
       "'pt_BR.utf8'"
      ]
     },
     "execution_count": 3,
     "metadata": {},
     "output_type": "execute_result"
    }
   ],
   "source": [
    "import locale\n",
    "from datetime import datetime\n",
    "\n",
    "import pandas as pd\n",
    "from dateutil.tz import tzlocal\n",
    "\n",
    "locale.setlocale(locale.LC_TIME, \"pt_BR.utf8\")"
   ]
  },
  {
   "cell_type": "code",
   "execution_count": 4,
   "metadata": {},
   "outputs": [],
   "source": [
    "file_list = [\n",
    "    {\n",
    "        \"site_ranking\": \"Verdadeiro\",\n",
    "        \"raw_path\": \"../dados/brutos/raw_aosfatos/verdadeiro_aosfatos.csv\",\n",
    "        \"path\": \"../dados/enriquecidos/trusted_aosfatos/verdadeiro_aosfatos.csv\",\n",
    "        \"site\": \"aosfatos\"\n",
    "    },\n",
    "    {\n",
    "        \"site_ranking\": \"Distorcido\",\n",
    "        \"raw_path\": \"../dados/brutos/raw_aosfatos/distorcido_aosfatos.csv\",\n",
    "        \"path\": \"../dados/enriquecidos/trusted_aosfatos/distorcido_aosfatos.csv\",\n",
    "        \"site\": \"aosfatos\"\n",
    "    },\n",
    "    {\n",
    "        \"site_ranking\": \"Falso\",\n",
    "        \"raw_path\": \"../dados/brutos/raw_aosfatos/fake_aosfatos.csv\",\n",
    "        \"path\": \"../dados/enriquecidos/trusted_aosfatos/fake_aosfatos.csv\",\n",
    "        \"site\": \"aosfatos\"\n",
    "    },\n",
    "    {\n",
    "        \"site_ranking\": \"Verdadeiro\",\n",
    "        \"raw_path\": \"../dados/brutos/raw_efarsas/verdadeiro_efarsas.csv\",\n",
    "        \"path\": \"../dados/enriquecidos/trusted_efarsas/verdadeiro_efarsas.csv\",\n",
    "        \"site\": \"efarsas\"\n",
    "    },\n",
    "    {\n",
    "        \"site_ranking\": \"Falso\",\n",
    "        \"raw_path\": \"../dados/brutos/raw_efarsas/fake_efarsas.csv\",\n",
    "        \"path\": \"../dados/enriquecidos/trusted_efarsas/fake_efarsas.csv\",\n",
    "        \"site\": \"efarsas\"\n",
    "    },\n",
    "]"
   ]
  },
  {
   "cell_type": "code",
   "execution_count": 5,
   "metadata": {},
   "outputs": [],
   "source": [
    "for file in file_list:\n",
    "    df = pd.read_csv(file[\"raw_path\"])\n",
    "\n",
    "    df.replace('\\n+', ' ', regex=True, inplace=True)\n",
    "\n",
    "    df.replace('\\s\\s+', ' ', regex=True, inplace=True)\n",
    "    \n",
    "    if file[\"site\"] == \"aosfatos\":\n",
    "        df['site_date_published'] =  pd.to_datetime(df['site_date_published'], format=' %d de %B de %Y, %Hh%M ')\n",
    "        df.replace(' \\| Aos Fatos', '', regex=True, inplace=True)\n",
    "    elif file[\"site\"] == \"efarsas\":\n",
    "        df.replace('- Publicidade -', '', regex=True, inplace=True)\n",
    "        df['site_date_published'] =  pd.to_datetime(df['site_date_published'], format='%Y-%m-%dT%H:%M:%S+00:00')\n",
    "\n",
    "    df.to_csv(file[\"path\"], index=False)"
   ]
  }
 ],
 "metadata": {
  "kernelspec": {
   "display_name": "Python 3.10.5 64-bit",
   "language": "python",
   "name": "python3"
  },
  "language_info": {
   "codemirror_mode": {
    "name": "ipython",
    "version": 3
   },
   "file_extension": ".py",
   "mimetype": "text/x-python",
   "name": "python",
   "nbconvert_exporter": "python",
   "pygments_lexer": "ipython3",
   "version": "3.11.3"
  },
  "orig_nbformat": 4,
  "vscode": {
   "interpreter": {
    "hash": "e7370f93d1d0cde622a1f8e1c04877d8463912d04d973331ad4851f04de6915a"
   }
  }
 },
 "nbformat": 4,
 "nbformat_minor": 2
}
