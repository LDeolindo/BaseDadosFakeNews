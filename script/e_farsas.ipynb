{
 "cells": [
  {
   "cell_type": "code",
   "execution_count": 1,
   "metadata": {},
   "outputs": [],
   "source": [
    "import json\n",
    "import re\n",
    "import time\n",
    "from datetime import datetime\n",
    "\n",
    "import pandas as pd\n",
    "import requests\n",
    "from bs4 import BeautifulSoup"
   ]
  },
  {
   "cell_type": "code",
   "execution_count": 2,
   "metadata": {},
   "outputs": [],
   "source": [
    "def get_page_content(url):\n",
    "    while True:\n",
    "        try:\n",
    "            page = requests.get(url)\n",
    "        except Exception as e:\n",
    "            time.sleep(60)\n",
    "        else:\n",
    "            if page.status_code == 200:\n",
    "                soup: BeautifulSoup = BeautifulSoup(page.content, \"html.parser\")\n",
    "                return soup\n",
    "            else:\n",
    "                return None\n"
   ]
  },
  {
   "cell_type": "code",
   "execution_count": 3,
   "metadata": {},
   "outputs": [],
   "source": [
    "def get_data(soup, load_date, site_ranking):\n",
    "    dict = {\n",
    "        \"load_date\": load_date,\n",
    "        \"site_ranking\": site_ranking,\n",
    "        \"site_name\": None,\n",
    "        \"url\": None,\n",
    "        \"site_language\": None,\n",
    "        \"site_content_url\": None,\n",
    "        \"site_url\": None,\n",
    "        \"site_date_published\": None,\n",
    "        \"title\": None,\n",
    "        \"description\": None,\n",
    "        \"keywords\": None,\n",
    "        \"tag\": None,\n",
    "        \"claim_reviewed\": None,\n",
    "        \"review_body\": None,\n",
    "        \"claim\": None,\n",
    "    }\n",
    "\n",
    "    script = soup.find(\"script\", class_=\"yoast-schema-graph\")\n",
    "    script_json = json.loads(script.string)\n",
    "\n",
    "    for graph in script_json[\"@graph\"]:\n",
    "        if \"@type\" in graph and graph[\"@type\"] == \"WebSite\":\n",
    "            dict[\"site_name\"] = graph[\"name\"] if \"name\" in graph else None\n",
    "            dict[\"site_language\"] = graph[\"inLanguage\"] if \"inLanguage\" in graph else None\n",
    "            dict[\"site_url\"] = graph[\"url\"] if \"url\" in graph else None\n",
    "\n",
    "        if \"@type\" in graph and graph[\"@type\"] == \"ImageObject\":\n",
    "            dict[\"site_content_url\"] = graph[\"contentUrl\"] if \"contentUrl\" in graph else None\n",
    "            dict[\"claim_reviewed\"] = graph[\"caption\"] if \"caption\" in graph else None\n",
    "\n",
    "        if \"@type\" in graph and graph[\"@type\"] == \"WebPage\":\n",
    "            dict[\"url\"] = graph[\"url\"] if \"url\" in graph else None\n",
    "            dict[\"title\"] = graph[\"name\"] if \"name\" in graph else None\n",
    "            dict[\"description\"] = graph[\"description\"] if \"description\" in graph else None\n",
    "            dict[\"site_date_published\"] = graph[\"datePublished\"] if \"datePublished\" in graph else None\n",
    "        \n",
    "        if \"@type\" in graph and graph[\"@type\"] == \"Article\":\n",
    "            dict[\"keywords\"] = graph[\"keywords\"] if \"keywords\" in graph else None\n",
    "            dict[\"tag\"] = graph[\"articleSection\"] if \"articleSection\" in graph else None\n",
    "\n",
    "    pages = soup.select_one(\"#tdi_94 > div > div.vc_column.tdi_97.wpb_column.vc_column_container.tdc-column.td-pb-span8 > div > div.td_block_wrap.tdb_single_content.tdi_99.td-pb-border-top.td_block_template_1.td-post-content.tagdiv-type > div\")\n",
    "    dict[\"claim\"] = pages.text if pages else None\n",
    "\n",
    "    return dict\n",
    "    "
   ]
  },
  {
   "cell_type": "code",
   "execution_count": 4,
   "metadata": {},
   "outputs": [],
   "source": [
    "def get_number_pages(url):\n",
    "    soup = get_page_content(url)\n",
    "\n",
    "    number_pages = soup.find(\"a\", class_=\"last\").text\n",
    "    return number_pages\n",
    "\n",
    "def get_page_links(url, page):\n",
    "    soup = get_page_content(f\"{url}/page/{page}\")\n",
    "\n",
    "    link_all = soup.find_all(\"a\", class_=\"td-image-wrap\")\n",
    "\n",
    "    links = [link['href'] for link in link_all]\n",
    "    return links"
   ]
  },
  {
   "cell_type": "code",
   "execution_count": 5,
   "metadata": {},
   "outputs": [],
   "source": [
    "def convert_dict_dataframe(dict):\n",
    "    df = pd.DataFrame.from_dict([dict])\n",
    "    return df\n",
    "\n",
    "def write_csv(df, path, header, mode):\n",
    "    df.to_csv(path, index=False, header=header, mode=mode)"
   ]
  },
  {
   "cell_type": "code",
   "execution_count": 6,
   "metadata": {},
   "outputs": [],
   "source": [
    "site_list = [\n",
    "    {\n",
    "        \"url\": \"https://www.e-farsas.com/secoes/verdadeiro-2\",\n",
    "        \"site_ranking\": \"Verdadeiro\",\n",
    "        \"path\": \"../dados/brutos/raw_efarsas/verdadeiro_efarsas.csv\"\n",
    "    },\n",
    "    {\n",
    "        \"url\": \"https://www.e-farsas.com/secoes/falso-2\",\n",
    "        \"site_ranking\": \"Falso\",\n",
    "        \"path\": \"../dados/brutos/raw_efarsas/fake_efarsas.csv\"\n",
    "    },\n",
    "]\n",
    "\n",
    "now = datetime.now()\n",
    "load_date = now.strftime(\"%Y-%m-%d %H:%M:%S\")\n",
    "\n",
    "for site in  site_list:\n",
    "    if site and \"url\" in site and \"site_ranking\" in site and \"path\" in site:\n",
    "        url = site[\"url\"]\n",
    "        site_ranking = site[\"site_ranking\"]\n",
    "        path = site[\"path\"]\n",
    "\n",
    "        number_pages = get_number_pages(url)\n",
    "\n",
    "        mode = 'w'\n",
    "        header = True\n",
    "\n",
    "        for n_page in range(1, int(number_pages)):\n",
    "            links = get_page_links(url, n_page)\n",
    "            for link in links:\n",
    "                soup = get_page_content(link)\n",
    "\n",
    "                if soup:\n",
    "                    dict = get_data(soup, load_date, site_ranking)\n",
    "                    df = convert_dict_dataframe(dict)\n",
    "                    write_csv(df, path, header, mode)\n",
    "\n",
    "                    mode = 'a'\n",
    "                    header = False"
   ]
  }
 ],
 "metadata": {
  "kernelspec": {
   "display_name": "Python 3.10.5 64-bit",
   "language": "python",
   "name": "python3"
  },
  "language_info": {
   "codemirror_mode": {
    "name": "ipython",
    "version": 3
   },
   "file_extension": ".py",
   "mimetype": "text/x-python",
   "name": "python",
   "nbconvert_exporter": "python",
   "pygments_lexer": "ipython3",
   "version": "3.11.3"
  },
  "orig_nbformat": 4,
  "vscode": {
   "interpreter": {
    "hash": "e7370f93d1d0cde622a1f8e1c04877d8463912d04d973331ad4851f04de6915a"
   }
  }
 },
 "nbformat": 4,
 "nbformat_minor": 2
}
